{
 "cells": [
  {
   "cell_type": "markdown",
   "metadata": {},
   "source": [
    "# Interfacing R in Python for Bioinformatics\n",
    "\n",
    "\n",
    "<br>\n",
    "\n",
    " <div class=\"alert alert-block alert-info\">\n",
    "    <b></b> Learn to interface r in python using the <b>rpy2</b> library \n",
    "</div>\n",
    "\n",
    "<hr>"
   ]
  },
  {
   "cell_type": "markdown",
   "metadata": {},
   "source": [
    "__What we will go over__\n",
    "- Collecting Data\n",
    "- Converting Python Dataframe to R dataframe\n",
    "- Converting the Datatypes using rpy2\n",
    "- Using ggplot2 to plot data  "
   ]
  },
  {
   "cell_type": "markdown",
   "metadata": {},
   "source": [
    "<hr>"
   ]
  },
  {
   "cell_type": "markdown",
   "metadata": {},
   "source": [
    "## Collecting the data\n",
    "\n",
    "Here we will use data from the 1000 genome project. This is a sample dataset from the large file available on the internet"
   ]
  },
  {
   "cell_type": "markdown",
   "metadata": {},
   "source": [
    "__Linux Command__"
   ]
  },
  {
   "cell_type": "code",
   "execution_count": 1,
   "metadata": {},
   "outputs": [
    {
     "name": "stdout",
     "output_type": "stream",
     "text": [
      "--2021-01-09 19:37:49--  https://raw.githubusercontent.com/VarunSendilraj/test/main/1000-genomes_other_sample_info_sample_info.csv\n",
      "Resolving raw.githubusercontent.com (raw.githubusercontent.com)... 151.101.0.133, 151.101.128.133, 151.101.192.133, ...\n",
      "Connecting to raw.githubusercontent.com (raw.githubusercontent.com)|151.101.0.133|:443... connected.\n",
      "HTTP request sent, awaiting response... 200 OK\n",
      "Length: 1004874 (981K) [text/plain]\n",
      "Saving to: ‘1000-genomes_other_sample_info_sample_info.csv.1’\n",
      "\n",
      "1000-genomes_other_ 100%[===================>] 981.32K  --.-KB/s    in 0.1s    \n",
      "\n",
      "2021-01-09 19:37:50 (9.48 MB/s) - ‘1000-genomes_other_sample_info_sample_info.csv.1’ saved [1004874/1004874]\n",
      "\n"
     ]
    }
   ],
   "source": [
    "# Get the data\n",
    "!wget https://raw.githubusercontent.com/VarunSendilraj/test/main/1000-genomes_other_sample_info_sample_info.csv"
   ]
  },
  {
   "cell_type": "markdown",
   "metadata": {},
   "source": [
    "__Windows/Mac__"
   ]
  },
  {
   "cell_type": "code",
   "execution_count": 2,
   "metadata": {},
   "outputs": [
    {
     "data": {
      "text/plain": [
       "('genomes_other_sample_info_sample_info.csv',\n",
       " <http.client.HTTPMessage at 0x7f0adc6db2b0>)"
      ]
     },
     "execution_count": 2,
     "metadata": {},
     "output_type": "execute_result"
    }
   ],
   "source": [
    "import urllib.request\n",
    "url = 'https://raw.githubusercontent.com/VarunSendilraj/test/main/1000-genomes_other_sample_info_sample_info.csv'\n",
    "filename = 'genomes_other_sample_info_sample_info.csv'\n",
    "urllib.request.urlretrieve(url, filename)"
   ]
  },
  {
   "cell_type": "markdown",
   "metadata": {},
   "source": [
    "------------------------------------------------------------------------"
   ]
  },
  {
   "cell_type": "markdown",
   "metadata": {},
   "source": [
    "## Converting Python Dataframe to R dataframe"
   ]
  },
  {
   "cell_type": "markdown",
   "metadata": {},
   "source": [
    "Lets start of by importing the nessary libraries to open and convert the python dataframe to an R dataframe"
   ]
  },
  {
   "cell_type": "code",
   "execution_count": 3,
   "metadata": {},
   "outputs": [],
   "source": [
    "import pandas as pd\n",
    "import rpy2.robjects as ro\n",
    "from rpy2.robjects.packages import importr\n",
    "from rpy2.robjects import pandas2ri\n",
    "from rpy2.robjects.conversion import localconverter"
   ]
  },
  {
   "cell_type": "markdown",
   "metadata": {},
   "source": [
    "now lets open the file that we have downloaded using pandas `read_csv` function"
   ]
  },
  {
   "cell_type": "code",
   "execution_count": 4,
   "metadata": {},
   "outputs": [
    {
     "data": {
      "text/html": [
       "<div>\n",
       "<style scoped>\n",
       "    .dataframe tbody tr th:only-of-type {\n",
       "        vertical-align: middle;\n",
       "    }\n",
       "\n",
       "    .dataframe tbody tr th {\n",
       "        vertical-align: top;\n",
       "    }\n",
       "\n",
       "    .dataframe thead th {\n",
       "        text-align: right;\n",
       "    }\n",
       "</style>\n",
       "<table border=\"1\" class=\"dataframe\">\n",
       "  <thead>\n",
       "    <tr style=\"text-align: right;\">\n",
       "      <th></th>\n",
       "      <th>Sample</th>\n",
       "      <th>Family_ID</th>\n",
       "      <th>Population</th>\n",
       "      <th>Population_Description</th>\n",
       "      <th>Gender</th>\n",
       "      <th>Relationship</th>\n",
       "      <th>Unexpected_Parent_Child</th>\n",
       "      <th>Non_Paternity</th>\n",
       "      <th>Siblings</th>\n",
       "      <th>Grandparents</th>\n",
       "      <th>...</th>\n",
       "      <th>In_Final_Phase_Variant_Calling</th>\n",
       "      <th>Has_Omni_Genotypes</th>\n",
       "      <th>Has_Axiom_Genotypes</th>\n",
       "      <th>Has_Affy_6_0_Genotypes</th>\n",
       "      <th>Has_Exome_LOF_Genotypes</th>\n",
       "      <th>EBV_Coverage</th>\n",
       "      <th>DNA_Source_from_Coriell</th>\n",
       "      <th>Has_Sequence_from_Blood_in_Index</th>\n",
       "      <th>Super_Population</th>\n",
       "      <th>Super_Population_Description</th>\n",
       "    </tr>\n",
       "  </thead>\n",
       "  <tbody>\n",
       "    <tr>\n",
       "      <th>0</th>\n",
       "      <td>HG00096</td>\n",
       "      <td>HG00096</td>\n",
       "      <td>GBR</td>\n",
       "      <td>British in England and Scotland</td>\n",
       "      <td>male</td>\n",
       "      <td>NaN</td>\n",
       "      <td>NaN</td>\n",
       "      <td>NaN</td>\n",
       "      <td>NaN</td>\n",
       "      <td>NaN</td>\n",
       "      <td>...</td>\n",
       "      <td>1.0</td>\n",
       "      <td>1.0</td>\n",
       "      <td>NaN</td>\n",
       "      <td>NaN</td>\n",
       "      <td>1.0</td>\n",
       "      <td>20.31</td>\n",
       "      <td>NaN</td>\n",
       "      <td>NaN</td>\n",
       "      <td>EUR</td>\n",
       "      <td>European</td>\n",
       "    </tr>\n",
       "    <tr>\n",
       "      <th>1</th>\n",
       "      <td>HG00097</td>\n",
       "      <td>HG00097</td>\n",
       "      <td>GBR</td>\n",
       "      <td>British in England and Scotland</td>\n",
       "      <td>female</td>\n",
       "      <td>NaN</td>\n",
       "      <td>NaN</td>\n",
       "      <td>NaN</td>\n",
       "      <td>NaN</td>\n",
       "      <td>NaN</td>\n",
       "      <td>...</td>\n",
       "      <td>1.0</td>\n",
       "      <td>1.0</td>\n",
       "      <td>NaN</td>\n",
       "      <td>NaN</td>\n",
       "      <td>1.0</td>\n",
       "      <td>169.49</td>\n",
       "      <td>NaN</td>\n",
       "      <td>NaN</td>\n",
       "      <td>EUR</td>\n",
       "      <td>European</td>\n",
       "    </tr>\n",
       "    <tr>\n",
       "      <th>2</th>\n",
       "      <td>HG00098</td>\n",
       "      <td>HG00098</td>\n",
       "      <td>GBR</td>\n",
       "      <td>British in England and Scotland</td>\n",
       "      <td>male</td>\n",
       "      <td>NaN</td>\n",
       "      <td>NaN</td>\n",
       "      <td>NaN</td>\n",
       "      <td>NaN</td>\n",
       "      <td>NaN</td>\n",
       "      <td>...</td>\n",
       "      <td>NaN</td>\n",
       "      <td>1.0</td>\n",
       "      <td>NaN</td>\n",
       "      <td>NaN</td>\n",
       "      <td>1.0</td>\n",
       "      <td>NaN</td>\n",
       "      <td>NaN</td>\n",
       "      <td>NaN</td>\n",
       "      <td>EUR</td>\n",
       "      <td>European</td>\n",
       "    </tr>\n",
       "    <tr>\n",
       "      <th>3</th>\n",
       "      <td>HG00099</td>\n",
       "      <td>HG00099</td>\n",
       "      <td>GBR</td>\n",
       "      <td>British in England and Scotland</td>\n",
       "      <td>female</td>\n",
       "      <td>NaN</td>\n",
       "      <td>NaN</td>\n",
       "      <td>NaN</td>\n",
       "      <td>NaN</td>\n",
       "      <td>NaN</td>\n",
       "      <td>...</td>\n",
       "      <td>1.0</td>\n",
       "      <td>1.0</td>\n",
       "      <td>NaN</td>\n",
       "      <td>NaN</td>\n",
       "      <td>1.0</td>\n",
       "      <td>23.04</td>\n",
       "      <td>NaN</td>\n",
       "      <td>NaN</td>\n",
       "      <td>EUR</td>\n",
       "      <td>European</td>\n",
       "    </tr>\n",
       "    <tr>\n",
       "      <th>4</th>\n",
       "      <td>HG00100</td>\n",
       "      <td>HG00100</td>\n",
       "      <td>GBR</td>\n",
       "      <td>British in England and Scotland</td>\n",
       "      <td>female</td>\n",
       "      <td>NaN</td>\n",
       "      <td>NaN</td>\n",
       "      <td>NaN</td>\n",
       "      <td>NaN</td>\n",
       "      <td>NaN</td>\n",
       "      <td>...</td>\n",
       "      <td>1.0</td>\n",
       "      <td>1.0</td>\n",
       "      <td>NaN</td>\n",
       "      <td>NaN</td>\n",
       "      <td>1.0</td>\n",
       "      <td>116.22</td>\n",
       "      <td>NaN</td>\n",
       "      <td>NaN</td>\n",
       "      <td>EUR</td>\n",
       "      <td>European</td>\n",
       "    </tr>\n",
       "  </tbody>\n",
       "</table>\n",
       "<p>5 rows × 62 columns</p>\n",
       "</div>"
      ],
      "text/plain": [
       "    Sample Family_ID Population           Population_Description  Gender  \\\n",
       "0  HG00096   HG00096        GBR  British in England and Scotland    male   \n",
       "1  HG00097   HG00097        GBR  British in England and Scotland  female   \n",
       "2  HG00098   HG00098        GBR  British in England and Scotland    male   \n",
       "3  HG00099   HG00099        GBR  British in England and Scotland  female   \n",
       "4  HG00100   HG00100        GBR  British in England and Scotland  female   \n",
       "\n",
       "  Relationship Unexpected_Parent_Child Non_Paternity Siblings Grandparents  \\\n",
       "0          NaN                     NaN           NaN      NaN          NaN   \n",
       "1          NaN                     NaN           NaN      NaN          NaN   \n",
       "2          NaN                     NaN           NaN      NaN          NaN   \n",
       "3          NaN                     NaN           NaN      NaN          NaN   \n",
       "4          NaN                     NaN           NaN      NaN          NaN   \n",
       "\n",
       "   ... In_Final_Phase_Variant_Calling Has_Omni_Genotypes Has_Axiom_Genotypes  \\\n",
       "0  ...                            1.0                1.0                 NaN   \n",
       "1  ...                            1.0                1.0                 NaN   \n",
       "2  ...                            NaN                1.0                 NaN   \n",
       "3  ...                            1.0                1.0                 NaN   \n",
       "4  ...                            1.0                1.0                 NaN   \n",
       "\n",
       "  Has_Affy_6_0_Genotypes  Has_Exome_LOF_Genotypes EBV_Coverage  \\\n",
       "0                    NaN                      1.0        20.31   \n",
       "1                    NaN                      1.0       169.49   \n",
       "2                    NaN                      1.0          NaN   \n",
       "3                    NaN                      1.0        23.04   \n",
       "4                    NaN                      1.0       116.22   \n",
       "\n",
       "  DNA_Source_from_Coriell  Has_Sequence_from_Blood_in_Index Super_Population  \\\n",
       "0                     NaN                               NaN              EUR   \n",
       "1                     NaN                               NaN              EUR   \n",
       "2                     NaN                               NaN              EUR   \n",
       "3                     NaN                               NaN              EUR   \n",
       "4                     NaN                               NaN              EUR   \n",
       "\n",
       "  Super_Population_Description  \n",
       "0                     European  \n",
       "1                     European  \n",
       "2                     European  \n",
       "3                     European  \n",
       "4                     European  \n",
       "\n",
       "[5 rows x 62 columns]"
      ]
     },
     "execution_count": 4,
     "metadata": {},
     "output_type": "execute_result"
    }
   ],
   "source": [
    "df = pd.read_csv('1000-genomes_other_sample_info_sample_info.csv')\n",
    "df.head()"
   ]
  },
  {
   "cell_type": "code",
   "execution_count": 5,
   "metadata": {},
   "outputs": [
    {
     "name": "stdout",
     "output_type": "stream",
     "text": [
      "<class 'pandas.core.frame.DataFrame'>\n"
     ]
    }
   ],
   "source": [
    "print(type(df))"
   ]
  },
  {
   "cell_type": "markdown",
   "metadata": {},
   "source": [
    "With the conversion of pandas DataFrame to R DataFrame, the converstion has trouble encoding float and int values so lets start of by converting the enitre dataframe into a string."
   ]
  },
  {
   "cell_type": "code",
   "execution_count": 6,
   "metadata": {},
   "outputs": [
    {
     "name": "stdout",
     "output_type": "stream",
     "text": [
      "<class 'str'>\n"
     ]
    }
   ],
   "source": [
    "df = df.applymap(str)\n",
    "print(type(df['In_Final_Phase_Variant_Calling'][0]))"
   ]
  },
  {
   "cell_type": "markdown",
   "metadata": {},
   "source": [
    "Now lets Convert the Pandas DataFrame to a R DataFrame using localcoverter from the rpy2 library \n",
    "\n",
    "Learn more about this function here: https://rpy2.github.io/doc/v3.0.x/html/generated_rst/pandas.html"
   ]
  },
  {
   "cell_type": "code",
   "execution_count": 7,
   "metadata": {},
   "outputs": [
    {
     "name": "stdout",
     "output_type": "stream",
     "text": [
      "<class 'rpy2.robjects.vectors.DataFrame'>\n"
     ]
    }
   ],
   "source": [
    "with localconverter(ro.default_converter + pandas2ri.converter):\n",
    "  r_df = ro.conversion.py2rpy(df)\n",
    "\n",
    "print(type(r_df))"
   ]
  },
  {
   "cell_type": "markdown",
   "metadata": {},
   "source": [
    "<hr>"
   ]
  },
  {
   "cell_type": "markdown",
   "metadata": {},
   "source": [
    "## Converting the Datatypes using rpy2\n"
   ]
  },
  {
   "cell_type": "markdown",
   "metadata": {},
   "source": [
    "### Understand the Data"
   ]
  },
  {
   "cell_type": "code",
   "execution_count": 8,
   "metadata": {},
   "outputs": [
    {
     "data": {
      "text/html": [
       "\n",
       "        <span>R/rpy2 DataFrame (3500 x 62)</span>\n",
       "        <table>\n",
       "          <thead>\n",
       "            <tr>\n",
       "              \n",
       "              <th>Sample</th>\n",
       "              \n",
       "              <th>Family_ID</th>\n",
       "              \n",
       "              <th>Population</th>\n",
       "              \n",
       "              <th>...</th>\n",
       "              \n",
       "              <th>Has_Sequence_from_Blood_in_Index</th>\n",
       "              \n",
       "              <th>Super_Population</th>\n",
       "              \n",
       "              <th>Super_Population_Description</th>\n",
       "              \n",
       "            </tr>\n",
       "          </thead>\n",
       "          <tbody>\n",
       "          \n",
       "          <tr>\n",
       "            \n",
       "            <td>\n",
       "              'HG00096'\n",
       "            </td>\n",
       "            \n",
       "            <td>\n",
       "              'HG00096'\n",
       "            </td>\n",
       "            \n",
       "            <td>\n",
       "              'GBR'\n",
       "            </td>\n",
       "            \n",
       "            <td>\n",
       "              ...\n",
       "            </td>\n",
       "            \n",
       "            <td>\n",
       "              'nan'\n",
       "            </td>\n",
       "            \n",
       "            <td>\n",
       "              'EUR'\n",
       "            </td>\n",
       "            \n",
       "            <td>\n",
       "              'European'\n",
       "            </td>\n",
       "            \n",
       "          </tr>\n",
       "          \n",
       "          <tr>\n",
       "            \n",
       "            <td>\n",
       "              'HG00097'\n",
       "            </td>\n",
       "            \n",
       "            <td>\n",
       "              'HG00097'\n",
       "            </td>\n",
       "            \n",
       "            <td>\n",
       "              'GBR'\n",
       "            </td>\n",
       "            \n",
       "            <td>\n",
       "              \n",
       "            </td>\n",
       "            \n",
       "            <td>\n",
       "              'nan'\n",
       "            </td>\n",
       "            \n",
       "            <td>\n",
       "              'EUR'\n",
       "            </td>\n",
       "            \n",
       "            <td>\n",
       "              'European'\n",
       "            </td>\n",
       "            \n",
       "          </tr>\n",
       "          \n",
       "          <tr>\n",
       "            \n",
       "            <td>\n",
       "              'HG00098'\n",
       "            </td>\n",
       "            \n",
       "            <td>\n",
       "              'HG00098'\n",
       "            </td>\n",
       "            \n",
       "            <td>\n",
       "              'GBR'\n",
       "            </td>\n",
       "            \n",
       "            <td>\n",
       "              \n",
       "            </td>\n",
       "            \n",
       "            <td>\n",
       "              'nan'\n",
       "            </td>\n",
       "            \n",
       "            <td>\n",
       "              'EUR'\n",
       "            </td>\n",
       "            \n",
       "            <td>\n",
       "              'European'\n",
       "            </td>\n",
       "            \n",
       "          </tr>\n",
       "          \n",
       "          <tr>\n",
       "            \n",
       "            <td>\n",
       "              'HG00099'\n",
       "            </td>\n",
       "            \n",
       "            <td>\n",
       "              'HG00099'\n",
       "            </td>\n",
       "            \n",
       "            <td>\n",
       "              'GBR'\n",
       "            </td>\n",
       "            \n",
       "            <td>\n",
       "              \n",
       "            </td>\n",
       "            \n",
       "            <td>\n",
       "              'nan'\n",
       "            </td>\n",
       "            \n",
       "            <td>\n",
       "              'EUR'\n",
       "            </td>\n",
       "            \n",
       "            <td>\n",
       "              'European'\n",
       "            </td>\n",
       "            \n",
       "          </tr>\n",
       "          \n",
       "          <tr>\n",
       "            \n",
       "            <td>\n",
       "              ...\n",
       "            </td>\n",
       "            \n",
       "            <td>\n",
       "              ...\n",
       "            </td>\n",
       "            \n",
       "            <td>\n",
       "              ...\n",
       "            </td>\n",
       "            \n",
       "            <td>\n",
       "              \n",
       "            </td>\n",
       "            \n",
       "            <td>\n",
       "              ...\n",
       "            </td>\n",
       "            \n",
       "            <td>\n",
       "              ...\n",
       "            </td>\n",
       "            \n",
       "            <td>\n",
       "              ...\n",
       "            </td>\n",
       "            \n",
       "          </tr>\n",
       "          \n",
       "          <tr>\n",
       "            \n",
       "            <td>\n",
       "              'NA21141'\n",
       "            </td>\n",
       "            \n",
       "            <td>\n",
       "              'NA21141'\n",
       "            </td>\n",
       "            \n",
       "            <td>\n",
       "              'GIH'\n",
       "            </td>\n",
       "            \n",
       "            <td>\n",
       "              \n",
       "            </td>\n",
       "            \n",
       "            <td>\n",
       "              'nan'\n",
       "            </td>\n",
       "            \n",
       "            <td>\n",
       "              'SAS'\n",
       "            </td>\n",
       "            \n",
       "            <td>\n",
       "              'South As...\n",
       "            </td>\n",
       "            \n",
       "          </tr>\n",
       "          \n",
       "          <tr>\n",
       "            \n",
       "            <td>\n",
       "              'NA21142'\n",
       "            </td>\n",
       "            \n",
       "            <td>\n",
       "              'NA21142'\n",
       "            </td>\n",
       "            \n",
       "            <td>\n",
       "              'GIH'\n",
       "            </td>\n",
       "            \n",
       "            <td>\n",
       "              \n",
       "            </td>\n",
       "            \n",
       "            <td>\n",
       "              'nan'\n",
       "            </td>\n",
       "            \n",
       "            <td>\n",
       "              'SAS'\n",
       "            </td>\n",
       "            \n",
       "            <td>\n",
       "              'South As...\n",
       "            </td>\n",
       "            \n",
       "          </tr>\n",
       "          \n",
       "          <tr>\n",
       "            \n",
       "            <td>\n",
       "              'NA21143'\n",
       "            </td>\n",
       "            \n",
       "            <td>\n",
       "              'NA21143'\n",
       "            </td>\n",
       "            \n",
       "            <td>\n",
       "              'GIH'\n",
       "            </td>\n",
       "            \n",
       "            <td>\n",
       "              \n",
       "            </td>\n",
       "            \n",
       "            <td>\n",
       "              'nan'\n",
       "            </td>\n",
       "            \n",
       "            <td>\n",
       "              'SAS'\n",
       "            </td>\n",
       "            \n",
       "            <td>\n",
       "              'South As...\n",
       "            </td>\n",
       "            \n",
       "          </tr>\n",
       "          \n",
       "          <tr>\n",
       "            \n",
       "            <td>\n",
       "              'NA21144'\n",
       "            </td>\n",
       "            \n",
       "            <td>\n",
       "              'NA21144'\n",
       "            </td>\n",
       "            \n",
       "            <td>\n",
       "              'GIH'\n",
       "            </td>\n",
       "            \n",
       "            <td>\n",
       "              \n",
       "            </td>\n",
       "            \n",
       "            <td>\n",
       "              'nan'\n",
       "            </td>\n",
       "            \n",
       "            <td>\n",
       "              'SAS'\n",
       "            </td>\n",
       "            \n",
       "            <td>\n",
       "              'South As...\n",
       "            </td>\n",
       "            \n",
       "          </tr>\n",
       "          \n",
       "          </tbody>\n",
       "        </table>\n",
       "    "
      ],
      "text/plain": [
       "R object with classes: ('data.frame',) mapped to:\n",
       "[StrSexpVe..., StrSexpVe..., StrSexpVe..., StrSexpVe..., ..., StrSexpVe..., StrSexpVe..., StrSexpVe..., StrSexpVe...]\n",
       "  Sample: <class 'rpy2.robjects.vectors.StrVector'>\n",
       "  R object with classes: ('character',) mapped to:\n",
       "['HG00096', 'HG00097', 'HG00098', 'HG00099', ..., 'NA21141', 'NA21142', 'NA21143', 'NA21144']\n",
       "  Family_ID: <class 'rpy2.robjects.vectors.StrVector'>\n",
       "  R object with classes: ('character',) mapped to:\n",
       "['HG00096', 'HG00097', 'HG00098', 'HG00099', ..., 'NA21141', 'NA21142', 'NA21143', 'NA21144']\n",
       "  Population: <class 'rpy2.robjects.vectors.StrVector'>\n",
       "  R object with classes: ('character',) mapped to:\n",
       "['GBR', 'GBR', 'GBR', 'GBR', ..., 'GIH', 'GIH', 'GIH', 'GIH']\n",
       "  Population_Description: <class 'rpy2.robjects.vectors.StrVector'>\n",
       "  R object with classes: ('character',) mapped to:\n",
       "['British ..., 'British ..., 'British ..., 'British ..., ..., 'Gujarati..., 'Gujarati..., 'Gujarati..., 'Gujarati...]\n",
       "...\n",
       "  Relationship: <class 'rpy2.robjects.vectors.StrVector'>\n",
       "  R object with classes: ('character',) mapped to:\n",
       "['nan', 'nan', 'nan', 'nan', ..., 'nan', 'nan', 'nan', 'nan']\n",
       "  Unexpected_Parent_Child: <class 'rpy2.robjects.vectors.StrVector'>\n",
       "  R object with classes: ('character',) mapped to:\n",
       "['nan', 'nan', 'nan', 'nan', ..., 'nan', 'nan', 'nan', 'nan']\n",
       "  Non_Paternity: <class 'rpy2.robjects.vectors.StrVector'>\n",
       "  R object with classes: ('character',) mapped to:\n",
       "['EUR', 'EUR', 'EUR', 'EUR', ..., 'SAS', 'SAS', 'SAS', 'SAS']\n",
       "  Siblings: <class 'rpy2.robjects.vectors.StrVector'>\n",
       "  R object with classes: ('character',) mapped to:\n",
       "['European', 'European', 'European', 'European', ..., 'South As..., 'South As..., 'South As..., 'South As...]"
      ]
     },
     "execution_count": 8,
     "metadata": {},
     "output_type": "execute_result"
    }
   ],
   "source": [
    "r_df"
   ]
  },
  {
   "cell_type": "markdown",
   "metadata": {},
   "source": [
    "Lets print out all of the column names to get a better understanding of whats in our dataframe"
   ]
  },
  {
   "cell_type": "code",
   "execution_count": 9,
   "metadata": {},
   "outputs": [
    {
     "name": "stdout",
     "output_type": "stream",
     "text": [
      "This dataframe has 62 columns and 3500 rows\n",
      "\n",
      " [1] \"Sample\"                              \"Family_ID\"                          \n",
      " [3] \"Population\"                          \"Population_Description\"             \n",
      " [5] \"Gender\"                              \"Relationship\"                       \n",
      " [7] \"Unexpected_Parent_Child\"             \"Non_Paternity\"                      \n",
      " [9] \"Siblings\"                            \"Grandparents\"                       \n",
      "[11] \"Avuncular\"                           \"Half_Siblings\"                      \n",
      "[13] \"Unknown_Second_Order\"                \"Third_Order\"                        \n",
      "[15] \"In_Low_Coverage_Pilot\"               \"LC_Pilot_Platforms\"                 \n",
      "[17] \"LC_Pilot_Centers\"                    \"In_High_Coverage_Pilot\"             \n",
      "[19] \"HC_Pilot_Platforms\"                  \"HC_Pilot_Centers\"                   \n",
      "[21] \"In_Exon_Targetted_Pilot\"             \"ET_Pilot_Platforms\"                 \n",
      "[23] \"ET_Pilot_Centers\"                    \"Has_Sequence_in_Phase1\"             \n",
      "[25] \"Phase1_LC_Platform\"                  \"Phase1_LC_Centers\"                  \n",
      "[27] \"Phase1_E_Platform\"                   \"Phase1_E_Centers\"                   \n",
      "[29] \"In_Phase1_Integrated_Variant_Set\"    \"Has_Phase1_chrY_SNPS\"               \n",
      "[31] \"Has_phase1_chrY_Deletions\"           \"Has_phase1_chrMT_SNPs\"              \n",
      "[33] \"Main_project_LC_Centers\"             \"Main_project_LC_platform\"           \n",
      "[35] \"Total_LC_Sequence\"                   \"LC_Non_Duplicated_Aligned_Coverage\" \n",
      "[37] \"Main_Project_E_Centers\"              \"Main_Project_E_Platform\"            \n",
      "[39] \"Total_Exome_Sequence\"                \"X_Targets_Covered_to_20x_or_greater\"\n",
      "[41] \"VerifyBam_E_Omni_Free\"               \"VerifyBam_E_Affy_Free\"              \n",
      "[43] \"VerifyBam_E_Omni_Chip\"               \"VerifyBam_E_Affy_Chip\"              \n",
      "[45] \"VerifyBam_LC_Omni_Free\"              \"VerifyBam_LC_Affy_Free\"             \n",
      "[47] \"VerifyBam_LC_Omni_Chip\"              \"VerifyBam_LC_Affy_Chip\"             \n",
      "[49] \"LC_Indel_Ratio\"                      \"E_Indel_Ratio\"                      \n",
      "[51] \"LC_Passed_QC\"                        \"E_Passed_QC\"                        \n",
      "[53] \"In_Final_Phase_Variant_Calling\"      \"Has_Omni_Genotypes\"                 \n",
      "[55] \"Has_Axiom_Genotypes\"                 \"Has_Affy_6_0_Genotypes\"             \n",
      "[57] \"Has_Exome_LOF_Genotypes\"             \"EBV_Coverage\"                       \n",
      "[59] \"DNA_Source_from_Coriell\"             \"Has_Sequence_from_Blood_in_Index\"   \n",
      "[61] \"Super_Population\"                    \"Super_Population_Description\"       \n",
      "\n"
     ]
    }
   ],
   "source": [
    "print(f'This dataframe has {r_df.ncol} columns and {r_df.nrow} rows\\n')\n",
    "print(r_df.colnames)"
   ]
  },
  {
   "cell_type": "markdown",
   "metadata": {},
   "source": [
    "In the previous steps, we have converted all values in the dataframe into a string datatype\n",
    "\n",
    "Before we perform graphing, let convert those values back into integers and Floats"
   ]
  },
  {
   "cell_type": "markdown",
   "metadata": {},
   "source": [
    "Lets start of by defining the as_numeric function (to convert datatype to int and float) and the match function (works like the index function in python)"
   ]
  },
  {
   "cell_type": "code",
   "execution_count": 10,
   "metadata": {},
   "outputs": [],
   "source": [
    "#define the as_integer function\n",
    "as_numeric = ro.r('as.numeric')\n",
    "#define the Match function\n",
    "match = ro.r.match"
   ]
  },
  {
   "cell_type": "markdown",
   "metadata": {},
   "source": [
    "Since there are alot of lists that need to be converted into numbers, lets store the column names that need to be converted into an integer and iterate through it in a for loop"
   ]
  },
  {
   "cell_type": "code",
   "execution_count": 12,
   "metadata": {},
   "outputs": [
    {
     "name": "stdout",
     "output_type": "stream",
     "text": [
      "Type of read count before as.numeric: character\n",
      "Type of read count after as.numeric: numeric\n",
      "Type of read count before as.numeric: character\n",
      "Type of read count after as.numeric: numeric\n",
      "Type of read count before as.numeric: character\n",
      "Type of read count after as.numeric: numeric\n",
      "Type of read count before as.numeric: character\n",
      "Type of read count after as.numeric: numeric\n",
      "Type of read count before as.numeric: character\n",
      "Type of read count after as.numeric: numeric\n",
      "Type of read count before as.numeric: character\n",
      "Type of read count after as.numeric: numeric\n",
      "Type of read count before as.numeric: character\n",
      "Type of read count after as.numeric: numeric\n",
      "Type of read count before as.numeric: character\n",
      "Type of read count after as.numeric: numeric\n",
      "Type of read count before as.numeric: character\n",
      "Type of read count after as.numeric: numeric\n",
      "Type of read count before as.numeric: character\n",
      "Type of read count after as.numeric: numeric\n",
      "Type of read count before as.numeric: character\n",
      "Type of read count after as.numeric: numeric\n",
      "Type of read count before as.numeric: character\n",
      "Type of read count after as.numeric: numeric\n",
      "Type of read count before as.numeric: character\n",
      "Type of read count after as.numeric: numeric\n",
      "Type of read count before as.numeric: character\n",
      "Type of read count after as.numeric: numeric\n",
      "Type of read count before as.numeric: character\n",
      "Type of read count after as.numeric: numeric\n",
      "Type of read count before as.numeric: character\n",
      "Type of read count after as.numeric: numeric\n",
      "Type of read count before as.numeric: character\n",
      "Type of read count after as.numeric: numeric\n",
      "Type of read count before as.numeric: character\n",
      "Type of read count after as.numeric: numeric\n",
      "Type of read count before as.numeric: character\n",
      "Type of read count after as.numeric: numeric\n",
      "Type of read count before as.numeric: character\n",
      "Type of read count after as.numeric: numeric\n",
      "Type of read count before as.numeric: character\n",
      "Type of read count after as.numeric: numeric\n",
      "Type of read count before as.numeric: character\n",
      "Type of read count after as.numeric: numeric\n",
      "Type of read count before as.numeric: character\n",
      "Type of read count after as.numeric: numeric\n",
      "Type of read count before as.numeric: character\n",
      "Type of read count after as.numeric: numeric\n",
      "Type of read count before as.numeric: character\n",
      "Type of read count after as.numeric: numeric\n",
      "Type of read count before as.numeric: character\n",
      "Type of read count after as.numeric: numeric\n",
      "Type of read count before as.numeric: character\n",
      "Type of read count after as.numeric: numeric\n",
      "Type of read count before as.numeric: character\n",
      "Type of read count after as.numeric: numeric\n"
     ]
    }
   ],
   "source": [
    "#columns\n",
    "numCol = ['Has_Sequence_in_Phase1','In_Phase1_Integrated_Variant_Set','Has_Phase1_chrY_SNPS','Has_phase1_chrY_Deletions','Has_phase1_chrMT_SNPs','LC_Passed_QC','E_Passed_QC','In_Final_Phase_Variant_Calling','Has_Omni_Genotypes', 'Has_Axiom_Genotypes','Has_Affy_6_0_Genotypes','Has_Exome_LOF_Genotypes', 'Has_Sequence_from_Blood_in_Index', 'Total_LC_Sequence', 'LC_Non_Duplicated_Aligned_Coverage','Total_Exome_Sequence', 'X_Targets_Covered_to_20x_or_greater', 'VerifyBam_E_Omni_Free', 'VerifyBam_E_Affy_Free', 'VerifyBam_E_Omni_Chip', 'VerifyBam_E_Affy_Chip', 'VerifyBam_LC_Omni_Free', 'VerifyBam_LC_Affy_Free','VerifyBam_LC_Omni_Chip','VerifyBam_LC_Affy_Chip', 'LC_Indel_Ratio', 'E_Indel_Ratio', 'EBV_Coverage']\n",
    "#loop\n",
    "for col in numCol:\n",
    "    my_col = match(col, r_df.colnames)[0] #returned as a vector \n",
    "    print('Type of read count before as.numeric: %s' % r_df[my_col - 1].rclass[0])\n",
    "    r_df[my_col - 1] = as_numeric(r_df[my_col - 1])\n",
    "    print('Type of read count after as.numeric: %s' % r_df[my_col - 1].rclass[0])"
   ]
  },
  {
   "cell_type": "markdown",
   "metadata": {},
   "source": [
    "as seen above we have been able to convert our charachter datatype into the integer data type\n",
    "\n",
    "lets do the same and convert the float values into a numeric datatype"
   ]
  },
  {
   "cell_type": "markdown",
   "metadata": {},
   "source": [
    "<hr>"
   ]
  },
  {
   "cell_type": "markdown",
   "metadata": {},
   "source": [
    "## Using ggplot2 to plot the data"
   ]
  },
  {
   "cell_type": "markdown",
   "metadata": {},
   "source": [
    "Now lets use __ggplot2__ from the __rpy2__ library to plot our data\n",
    "\n",
    "Lets start of by making a bar graph plotting the count of people per a country that participated in the 100 genome project"
   ]
  },
  {
   "cell_type": "code",
   "execution_count": 17,
   "metadata": {},
   "outputs": [
    {
     "data": {
      "text/html": [
       "\n",
       "        <span>IntVector with 1 elements.</span>\n",
       "        <table>\n",
       "        <tbody>\n",
       "          <tr>\n",
       "          \n",
       "            <td>\n",
       "            1\n",
       "            </td>\n",
       "          \n",
       "          </tr>\n",
       "        </tbody>\n",
       "        </table>\n",
       "        "
      ],
      "text/plain": [
       "R object with classes: ('RTYPES.INTSXP',) mapped to:\n",
       "[1]"
      ]
     },
     "execution_count": 17,
     "metadata": {},
     "output_type": "execute_result"
    }
   ],
   "source": [
    "import rpy2.robjects.lib.ggplot2 as ggplot2\n",
    "from rpy2.robjects.functions import SignatureTranslatedFunction\n",
    "\n",
    "ggplot2.theme = SignatureTranslatedFunction(ggplot2.theme, init_prm_translate = {'axis_text_x': 'axis.text.x'})\n",
    "\n",
    "bar = ggplot2.ggplot(r_df) + ggplot2.geom_bar() + ggplot2.aes_string(x='Population') + ggplot2.theme(axis_text_x=ggplot2.element_text(angle=90, hjust=1))\n",
    "\n",
    "ro.r.png('out.png', type='cairo-png')\n",
    "bar.plot()\n",
    "dev_off = ro.r('dev.off')\n",
    "dev_off()\n"
   ]
  },
  {
   "cell_type": "markdown",
   "metadata": {},
   "source": [
    "This may look a little bit intimidating but its mainly just nessasary boilerplate Code\n",
    "\n",
    "code for plotting:\n",
    "`bar = ggplot2.ggplot(seq_data) + ggplot2.geom_bar() + ggplot2.aes_string(x='CENTER_NAME') + ggplot2.theme(axis_text_x=ggplot2.element_text(angle=90, hjust=1))`\n",
    "\n",
    "format:\n",
    "`var = ggplot2.ggplot(**DATAFRAME**) + ggplot.**GRAPH** + ggplot2.aes_string(x='**X-AXIS**') + ggplot2.theme(**ADJUST THE THEME HOWEVER NEEDED**)`\n",
    "\n"
   ]
  },
  {
   "cell_type": "markdown",
   "metadata": {},
   "source": [
    "In the end the graph will be stored in a pdf but ou can also view the file in your jupyter notbook"
   ]
  },
  {
   "cell_type": "code",
   "execution_count": 18,
   "metadata": {},
   "outputs": [
    {
     "data": {
      "image/png": "[encoded data removed]",
      "text/plain": [
       "<IPython.core.display.Image object>"
      ]
     },
     "execution_count": 18,
     "metadata": {},
     "output_type": "execute_result"
    }
   ],
   "source": [
    "from IPython.display import Image\n",
    "\n",
    "Image(filename='out.png')"
   ]
  },
  {
   "cell_type": "markdown",
   "metadata": {},
   "source": [
    "now lets create a scatterplot to compare the `Total_LC_Sequence` and the `LC_Non_Duplicated_Aligned_Coverage` in the 1000 genome project with relation to the population and gender"
   ]
  },
  {
   "cell_type": "code",
   "execution_count": 23,
   "metadata": {},
   "outputs": [
    {
     "data": {
      "text/html": [
       "\n",
       "        <span>IntVector with 1 elements.</span>\n",
       "        <table>\n",
       "        <tbody>\n",
       "          <tr>\n",
       "          \n",
       "            <td>\n",
       "            1\n",
       "            </td>\n",
       "          \n",
       "          </tr>\n",
       "        </tbody>\n",
       "        </table>\n",
       "        "
      ],
      "text/plain": [
       "R object with classes: ('RTYPES.INTSXP',) mapped to:\n",
       "[1]"
      ]
     },
     "execution_count": 23,
     "metadata": {},
     "output_type": "execute_result"
    }
   ],
   "source": [
    "pp = ggplot2.ggplot(r_df) + ggplot2.aes_string(x='Total_LC_Sequence', y='LC_Non_Duplicated_Aligned_Coverage', col='Population', shape='Gender') + ggplot2.geom_point()\n",
    "\n",
    "\n",
    "ro.r.png('scatter.png', type='cairo-png')\n",
    "pp.plot()\n",
    "dev_off = ro.r('dev.off')\n",
    "dev_off()\n"
   ]
  },
  {
   "cell_type": "code",
   "execution_count": 24,
   "metadata": {},
   "outputs": [
    {
     "data": {
      "image/png": "[encoded data removed]",
      "text/plain": [
       "<IPython.core.display.Image object>"
      ]
     },
     "execution_count": 24,
     "metadata": {},
     "output_type": "execute_result"
    }
   ],
   "source": [
    "# veiw the image \n",
    "from IPython.display import Image\n",
    "\n",
    "Image(filename='scatter.png')"
   ]
  },
  {
   "cell_type": "markdown",
   "metadata": {},
   "source": [
    "We can plot the same thing with box plots aswell"
   ]
  },
  {
   "cell_type": "code",
   "execution_count": 26,
   "metadata": {},
   "outputs": [
    {
     "data": {
      "text/html": [
       "\n",
       "        <span>IntVector with 1 elements.</span>\n",
       "        <table>\n",
       "        <tbody>\n",
       "          <tr>\n",
       "          \n",
       "            <td>\n",
       "            2\n",
       "            </td>\n",
       "          \n",
       "          </tr>\n",
       "        </tbody>\n",
       "        </table>\n",
       "        "
      ],
      "text/plain": [
       "R object with classes: ('RTYPES.INTSXP',) mapped to:\n",
       "[2]"
      ]
     },
     "execution_count": 26,
     "metadata": {},
     "output_type": "execute_result"
    }
   ],
   "source": [
    "bp = ggplot2.ggplot(r_df) + ggplot2.aes_string(x='Total_LC_Sequence', y='LC_Non_Duplicated_Aligned_Coverage', fill='Population') + ggplot2.geom_boxplot()\n",
    "\n",
    "ro.r.png('box.png', type='cairo-png')\n",
    "bp.plot()\n",
    "dev_off = ro.r('dev.off')\n",
    "dev_off()\n"
   ]
  },
  {
   "cell_type": "code",
   "execution_count": 27,
   "metadata": {},
   "outputs": [
    {
     "data": {
      "image/png": "[encoded data removed]",
      "text/plain": [
       "<IPython.core.display.Image object>"
      ]
     },
     "execution_count": 27,
     "metadata": {},
     "output_type": "execute_result"
    }
   ],
   "source": [
    "# veiw the image \n",
    "from IPython.display import Image\n",
    "\n",
    "Image(filename='box.png')"
   ]
  },
  {
   "cell_type": "markdown",
   "metadata": {},
   "source": [
    "There are more things you can do with ggplot and rpy2, If you want to learn more refer to the doucmentation on graphing : \n",
    "https://rpy.sourceforge.io/rpy2/doc-dev/html/graphics.html"
   ]
  },
  {
   "cell_type": "markdown",
   "metadata": {},
   "source": [
    " <div class=\"alert alert-block alert-success\">\n",
    "    Check out the Medium Article Tutorial: <b>Comming Soon</b>\n",
    "    <br>\n",
    "    <br>\n",
    "    Check Out My Github Profile: <a>https://github.com/VarunSendilraj</a>\n",
    "</div>\n",
    "\n",
    "<hr>"
   ]
  },
  {
   "cell_type": "code",
   "execution_count": null,
   "metadata": {},
   "outputs": [],
   "source": []
  }
 ],
 "metadata": {
  "kernelspec": {
   "display_name": "Python 3",
   "language": "python",
   "name": "python3"
  },
  "language_info": {
   "codemirror_mode": {
    "name": "ipython",
    "version": 3
   },
   "file_extension": ".py",
   "mimetype": "text/x-python",
   "name": "python",
   "nbconvert_exporter": "python",
   "pygments_lexer": "ipython3",
   "version": "3.8.5"
  }
 },
 "nbformat": 4,
 "nbformat_minor": 4
}
